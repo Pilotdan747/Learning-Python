{
 "cells": [
  {
   "cell_type": "markdown",
   "metadata": {},
   "source": [
    "# Book Code"
   ]
  },
  {
   "cell_type": "code",
   "execution_count": 1,
   "metadata": {},
   "outputs": [],
   "source": [
    "fruit = [\"apples\", \"oranges\", \"grapes\"]"
   ]
  },
  {
   "cell_type": "code",
   "execution_count": 3,
   "metadata": {},
   "outputs": [],
   "source": [
    "inventory = [[\"Buick\", 10], [\"Corvette\", 1], [\"Toyota\", 4]]\n",
    "\n",
    "# get the buick record\n",
    "buicks = inventory[0]\n",
    "buick_count = buicks[1]\n",
    "# or in one move\n",
    "count_of_buicks = inventory[0][1]"
   ]
  },
  {
   "cell_type": "markdown",
   "metadata": {},
   "source": [
    "# Main Code Section"
   ]
  },
  {
   "cell_type": "code",
   "execution_count": 4,
   "metadata": {},
   "outputs": [],
   "source": [
    "fruit = [\n",
    "    ['Apples', 12, 'AAA'], ['Oranges', 1, 'B'],\n",
    "    ['Pears', 2, 'A'], ['Grapes', 14, 'UR']]\n",
    "\n",
    "cars = [\n",
    "    ['Cadillac', ['Black', 'Big', 34500]],\n",
    "    ['Corvette', ['Red', 'Little', 1000000]],\n",
    "    ['Ford', ['Blue', 'Medium', 1234]],\n",
    "    ['BMW', ['White', 'Baby', 7890]]\n",
    "]\n",
    "\n",
    "languages = [\n",
    "    ['Python', ['Slow', ['Terrible', 'Mush']]],\n",
    "    ['JavaSCript', ['Moderate', ['Alright', 'Bizarre']]],\n",
    "    ['Pearl6', ['Moderate', ['Fun', 'Weird']]],\n",
    "    ['C', ['Fast', ['Annoying', 'Dangerous']]],\n",
    "    ['Forth', ['Fast', ['Fun', 'Difficult']]],\n",
    "]"
   ]
  },
  {
   "cell_type": "code",
   "execution_count": 11,
   "metadata": {},
   "outputs": [
    {
     "name": "stdout",
     "output_type": "stream",
     "text": [
      "12\n",
      "AAA\n",
      "2\n",
      "Oranges\n",
      "Grapes\n",
      "14\n",
      "Apples\n",
      "\n",
      "Big\n",
      "Red\n",
      "1234\n",
      "White\n",
      "7890\n",
      "Black\n",
      "34500\n",
      "Blue\n",
      "\n",
      "Slow\n",
      "Alright\n",
      "Dangerous\n",
      "Fast\n",
      "Difficult\n",
      "Fun\n",
      "Annoying\n",
      "Weird\n",
      "Moderate\n"
     ]
    }
   ],
   "source": [
    "print(fruit[0][1])\n",
    "print(fruit[0][2])\n",
    "print(fruit[2][1])\n",
    "print(fruit[1][0])\n",
    "print(fruit[3][0])\n",
    "print(fruit[3][1])\n",
    "print(fruit[0][0])\n",
    "print()\n",
    "print(cars[0][1][1])\n",
    "print(cars[1][1][0])\n",
    "print(cars[2][1][2])\n",
    "print(cars[3][1][0])\n",
    "print(cars[3][1][2])\n",
    "print(cars[0][1][0])\n",
    "print(cars[0][1][2])\n",
    "print(cars[2][1][0])\n",
    "print()\n",
    "print(languages[0][1][0])\n",
    "print(languages[1][1][1][0])\n",
    "print(languages[3][1][1][1])\n",
    "print(languages[4][1][0])\n",
    "print(languages[4][1][1][1])\n",
    "print(languages[2][1][1][0])\n",
    "print(languages[3][1][1][0])\n",
    "print(languages[2][1][1][1])\n",
    "print(languages[1][1][0])"
   ]
  },
  {
   "cell_type": "code",
   "execution_count": 12,
   "metadata": {},
   "outputs": [
    {
     "name": "stdout",
     "output_type": "stream",
     "text": [
      "Little\n",
      "Red\n",
      "Corvette\n",
      "Baby\n",
      "UR\n",
      "Mush\n",
      "2\n",
      "Fast\n"
     ]
    }
   ],
   "source": [
    "print(cars[1][1][1])\n",
    "print(cars[1][1][0])\n",
    "print(cars[1][0])\n",
    "print(cars[3][1][1])\n",
    "print(fruit[3][2])\n",
    "print(languages[0][1][1][1])\n",
    "print(fruit[2][1])\n",
    "print(languages[3][1][0])"
   ]
  }
 ],
 "metadata": {
  "kernelspec": {
   "display_name": "lpthw",
   "language": "python",
   "name": "python3"
  },
  "language_info": {
   "codemirror_mode": {
    "name": "ipython",
    "version": 3
   },
   "file_extension": ".py",
   "mimetype": "text/x-python",
   "name": "python",
   "nbconvert_exporter": "python",
   "pygments_lexer": "ipython3",
   "version": "3.11.5"
  }
 },
 "nbformat": 4,
 "nbformat_minor": 2
}
