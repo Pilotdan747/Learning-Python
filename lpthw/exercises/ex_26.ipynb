{
 "cells": [
  {
   "cell_type": "markdown",
   "metadata": {},
   "source": [
    "# Main Code Section"
   ]
  },
  {
   "cell_type": "code",
   "execution_count": 11,
   "metadata": {},
   "outputs": [
    {
     "name": "stdout",
     "output_type": "stream",
     "text": [
      "name Zed\n",
      "height 73\n"
     ]
    }
   ],
   "source": [
    "import ex26\n",
    "\n",
    "print(\"name\", ex26.name)\n",
    "print(\"height\", ex26.height)"
   ]
  },
  {
   "cell_type": "code",
   "execution_count": 2,
   "metadata": {},
   "outputs": [
    {
     "name": "stdout",
     "output_type": "stream",
     "text": [
      "{'__builtins__': {'ArithmeticError': <class 'ArithmeticError'>,\n",
      "                  'AssertionError': <class 'AssertionError'>,\n",
      "                  'AttributeError': <class 'AttributeError'>,\n",
      "                  'BaseException': <class 'BaseException'>,\n",
      "                  'BaseExceptionGroup': <class 'BaseExceptionGroup'>,\n",
      "                  'BlockingIOError': <class 'BlockingIOError'>,\n",
      "                  'BrokenPipeError': <class 'BrokenPipeError'>,\n",
      "                  'BufferError': <class 'BufferError'>,\n",
      "                  'BytesWarning': <class 'BytesWarning'>,\n",
      "                  'ChildProcessError': <class 'ChildProcessError'>,\n",
      "                  'ConnectionAbortedError': <class 'ConnectionAbortedError'>,\n",
      "                  'ConnectionError': <class 'ConnectionError'>,\n",
      "                  'ConnectionRefusedError': <class 'ConnectionRefusedError'>,\n",
      "                  'ConnectionResetError': <class 'ConnectionResetError'>,\n",
      "                  'DeprecationWarning': <class 'DeprecationWarning'>,\n",
      "                  'EOFError': <class 'EOFError'>,\n",
      "                  'Ellipsis': Ellipsis,\n",
      "                  'EncodingWarning': <class 'EncodingWarning'>,\n",
      "                  'EnvironmentError': <class 'OSError'>,\n",
      "                  'Exception': <class 'Exception'>,\n",
      "                  'ExceptionGroup': <class 'ExceptionGroup'>,\n",
      "                  'False': False,\n",
      "                  'FileExistsError': <class 'FileExistsError'>,\n",
      "                  'FileNotFoundError': <class 'FileNotFoundError'>,\n",
      "                  'FloatingPointError': <class 'FloatingPointError'>,\n",
      "                  'FutureWarning': <class 'FutureWarning'>,\n",
      "                  'GeneratorExit': <class 'GeneratorExit'>,\n",
      "                  'IOError': <class 'OSError'>,\n",
      "                  'ImportError': <class 'ImportError'>,\n",
      "                  'ImportWarning': <class 'ImportWarning'>,\n",
      "                  'IndentationError': <class 'IndentationError'>,\n",
      "                  'IndexError': <class 'IndexError'>,\n",
      "                  'InterruptedError': <class 'InterruptedError'>,\n",
      "                  'IsADirectoryError': <class 'IsADirectoryError'>,\n",
      "                  'KeyError': <class 'KeyError'>,\n",
      "                  'KeyboardInterrupt': <class 'KeyboardInterrupt'>,\n",
      "                  'LookupError': <class 'LookupError'>,\n",
      "                  'MemoryError': <class 'MemoryError'>,\n",
      "                  'ModuleNotFoundError': <class 'ModuleNotFoundError'>,\n",
      "                  'NameError': <class 'NameError'>,\n",
      "                  'None': None,\n",
      "                  'NotADirectoryError': <class 'NotADirectoryError'>,\n",
      "                  'NotImplemented': NotImplemented,\n",
      "                  'NotImplementedError': <class 'NotImplementedError'>,\n",
      "                  'OSError': <class 'OSError'>,\n",
      "                  'OverflowError': <class 'OverflowError'>,\n",
      "                  'PendingDeprecationWarning': <class 'PendingDeprecationWarning'>,\n",
      "                  'PermissionError': <class 'PermissionError'>,\n",
      "                  'ProcessLookupError': <class 'ProcessLookupError'>,\n",
      "                  'RecursionError': <class 'RecursionError'>,\n",
      "                  'ReferenceError': <class 'ReferenceError'>,\n",
      "                  'ResourceWarning': <class 'ResourceWarning'>,\n",
      "                  'RuntimeError': <class 'RuntimeError'>,\n",
      "                  'RuntimeWarning': <class 'RuntimeWarning'>,\n",
      "                  'StopAsyncIteration': <class 'StopAsyncIteration'>,\n",
      "                  'StopIteration': <class 'StopIteration'>,\n",
      "                  'SyntaxError': <class 'SyntaxError'>,\n",
      "                  'SyntaxWarning': <class 'SyntaxWarning'>,\n",
      "                  'SystemError': <class 'SystemError'>,\n",
      "                  'SystemExit': <class 'SystemExit'>,\n",
      "                  'TabError': <class 'TabError'>,\n",
      "                  'TimeoutError': <class 'TimeoutError'>,\n",
      "                  'True': True,\n",
      "                  'TypeError': <class 'TypeError'>,\n",
      "                  'UnboundLocalError': <class 'UnboundLocalError'>,\n",
      "                  'UnicodeDecodeError': <class 'UnicodeDecodeError'>,\n",
      "                  'UnicodeEncodeError': <class 'UnicodeEncodeError'>,\n",
      "                  'UnicodeError': <class 'UnicodeError'>,\n",
      "                  'UnicodeTranslateError': <class 'UnicodeTranslateError'>,\n",
      "                  'UnicodeWarning': <class 'UnicodeWarning'>,\n",
      "                  'UserWarning': <class 'UserWarning'>,\n",
      "                  'ValueError': <class 'ValueError'>,\n",
      "                  'Warning': <class 'Warning'>,\n",
      "                  'WindowsError': <class 'OSError'>,\n",
      "                  'ZeroDivisionError': <class 'ZeroDivisionError'>,\n",
      "                  '__IPYTHON__': True,\n",
      "                  '__build_class__': <built-in function __build_class__>,\n",
      "                  '__debug__': True,\n",
      "                  '__doc__': 'Built-in functions, types, exceptions, and other '\n",
      "                             'objects.\\n'\n",
      "                             '\\n'\n",
      "                             'This module provides direct access to all '\n",
      "                             \"'built-in'\\n\"\n",
      "                             'identifiers of Python; for example, builtins.len '\n",
      "                             'is\\n'\n",
      "                             'the full name for the built-in function len().\\n'\n",
      "                             '\\n'\n",
      "                             'This module is not normally accessed explicitly '\n",
      "                             'by most\\n'\n",
      "                             'applications, but can be useful in modules that '\n",
      "                             'provide\\n'\n",
      "                             'objects with the same name as a built-in value, '\n",
      "                             'but in\\n'\n",
      "                             'which the built-in of that name is also needed.',\n",
      "                  '__import__': <built-in function __import__>,\n",
      "                  '__loader__': <class '_frozen_importlib.BuiltinImporter'>,\n",
      "                  '__name__': 'builtins',\n",
      "                  '__package__': '',\n",
      "                  '__spec__': ModuleSpec(name='builtins', loader=<class '_frozen_importlib.BuiltinImporter'>, origin='built-in'),\n",
      "                  'abs': <built-in function abs>,\n",
      "                  'aiter': <built-in function aiter>,\n",
      "                  'all': <built-in function all>,\n",
      "                  'anext': <built-in function anext>,\n",
      "                  'any': <built-in function any>,\n",
      "                  'ascii': <built-in function ascii>,\n",
      "                  'bin': <built-in function bin>,\n",
      "                  'bool': <class 'bool'>,\n",
      "                  'breakpoint': <built-in function breakpoint>,\n",
      "                  'bytearray': <class 'bytearray'>,\n",
      "                  'bytes': <class 'bytes'>,\n",
      "                  'callable': <built-in function callable>,\n",
      "                  'chr': <built-in function chr>,\n",
      "                  'classmethod': <class 'classmethod'>,\n",
      "                  'compile': <built-in function compile>,\n",
      "                  'complex': <class 'complex'>,\n",
      "                  'copyright': Copyright (c) 2001-2023 Python Software Foundation.\n",
      "All Rights Reserved.\n",
      "\n",
      "Copyright (c) 2000 BeOpen.com.\n",
      "All Rights Reserved.\n",
      "\n",
      "Copyright (c) 1995-2001 Corporation for National Research Initiatives.\n",
      "All Rights Reserved.\n",
      "\n",
      "Copyright (c) 1991-1995 Stichting Mathematisch Centrum, Amsterdam.\n",
      "All Rights Reserved.,\n",
      "                  'credits':     Thanks to CWI, CNRI, BeOpen.com, Zope Corporation and a cast of thousands\n",
      "    for supporting Python development.  See www.python.org for more information.,\n",
      "                  'delattr': <built-in function delattr>,\n",
      "                  'dict': <class 'dict'>,\n",
      "                  'dir': <built-in function dir>,\n",
      "                  'display': <function display at 0x000002AE3FFFEB60>,\n",
      "                  'divmod': <built-in function divmod>,\n",
      "                  'enumerate': <class 'enumerate'>,\n",
      "                  'eval': <built-in function eval>,\n",
      "                  'exec': <built-in function exec>,\n",
      "                  'execfile': <function execfile at 0x000002AE415C99E0>,\n",
      "                  'filter': <class 'filter'>,\n",
      "                  'float': <class 'float'>,\n",
      "                  'format': <built-in function format>,\n",
      "                  'frozenset': <class 'frozenset'>,\n",
      "                  'get_ipython': <bound method InteractiveShell.get_ipython of <ipykernel.zmqshell.ZMQInteractiveShell object at 0x000002AE4295C740>>,\n",
      "                  'getattr': <built-in function getattr>,\n",
      "                  'globals': <built-in function globals>,\n",
      "                  'hasattr': <built-in function hasattr>,\n",
      "                  'hash': <built-in function hash>,\n",
      "                  'help': Type help() for interactive help, or help(object) for help about object.,\n",
      "                  'hex': <built-in function hex>,\n",
      "                  'id': <built-in function id>,\n",
      "                  'input': <bound method Kernel.raw_input of <ipykernel.ipkernel.IPythonKernel object at 0x000002AE4295CB00>>,\n",
      "                  'int': <class 'int'>,\n",
      "                  'isinstance': <built-in function isinstance>,\n",
      "                  'issubclass': <built-in function issubclass>,\n",
      "                  'iter': <built-in function iter>,\n",
      "                  'len': <built-in function len>,\n",
      "                  'license': See https://www.python.org/psf/license/,\n",
      "                  'list': <class 'list'>,\n",
      "                  'locals': <built-in function locals>,\n",
      "                  'map': <class 'map'>,\n",
      "                  'max': <built-in function max>,\n",
      "                  'memoryview': <class 'memoryview'>,\n",
      "                  'min': <built-in function min>,\n",
      "                  'next': <built-in function next>,\n",
      "                  'object': <class 'object'>,\n",
      "                  'oct': <built-in function oct>,\n",
      "                  'open': <built-in function open>,\n",
      "                  'ord': <built-in function ord>,\n",
      "                  'pow': <built-in function pow>,\n",
      "                  'print': <built-in function print>,\n",
      "                  'property': <class 'property'>,\n",
      "                  'range': <class 'range'>,\n",
      "                  'repr': <built-in function repr>,\n",
      "                  'reversed': <class 'reversed'>,\n",
      "                  'round': <built-in function round>,\n",
      "                  'runfile': <function runfile at 0x000002AE416C2CA0>,\n",
      "                  'set': <class 'set'>,\n",
      "                  'setattr': <built-in function setattr>,\n",
      "                  'slice': <class 'slice'>,\n",
      "                  'sorted': <built-in function sorted>,\n",
      "                  'staticmethod': <class 'staticmethod'>,\n",
      "                  'str': <class 'str'>,\n",
      "                  'sum': <built-in function sum>,\n",
      "                  'super': <class 'super'>,\n",
      "                  'tuple': <class 'tuple'>,\n",
      "                  'type': <class 'type'>,\n",
      "                  'vars': <built-in function vars>,\n",
      "                  'zip': <class 'zip'>},\n",
      " '__cached__': 'c:\\\\Users\\\\Burner '\n",
      "               'PC\\\\iCloudDrive\\\\Documents\\\\CODE\\\\Learning-Python\\\\lpthw\\\\exercises\\\\__pycache__\\\\ex26.cpython-312.pyc',\n",
      " '__doc__': None,\n",
      " '__file__': 'c:\\\\Users\\\\Burner '\n",
      "             'PC\\\\iCloudDrive\\\\Documents\\\\CODE\\\\Learning-Python\\\\lpthw\\\\exercises\\\\ex26.py',\n",
      " '__loader__': <_frozen_importlib_external.SourceFileLoader object at 0x000002AE42A04D10>,\n",
      " '__name__': 'ex26',\n",
      " '__package__': '',\n",
      " '__spec__': ModuleSpec(name='ex26', loader=<_frozen_importlib_external.SourceFileLoader object at 0x000002AE42A04D10>, origin='c:\\\\Users\\\\Burner PC\\\\iCloudDrive\\\\Documents\\\\CODE\\\\Learning-Python\\\\lpthw\\\\exercises\\\\ex26.py'),\n",
      " 'height': 74,\n",
      " 'name': 'Zed'}\n"
     ]
    }
   ],
   "source": [
    "from pprint import pprint\n",
    "\n",
    "pprint(ex26.__dict__)"
   ]
  },
  {
   "cell_type": "code",
   "execution_count": 3,
   "metadata": {},
   "outputs": [
    {
     "name": "stdout",
     "output_type": "stream",
     "text": [
      "{'__name__': 'ex26', '__doc__': None, '__package__': '', '__loader__': <_frozen_importlib_external.SourceFileLoader object at 0x000002AE42A04D10>, '__spec__': ModuleSpec(name='ex26', loader=<_frozen_importlib_external.SourceFileLoader object at 0x000002AE42A04D10>, origin='c:\\\\Users\\\\Burner PC\\\\iCloudDrive\\\\Documents\\\\CODE\\\\Learning-Python\\\\lpthw\\\\exercises\\\\ex26.py'), '__file__': 'c:\\\\Users\\\\Burner PC\\\\iCloudDrive\\\\Documents\\\\CODE\\\\Learning-Python\\\\lpthw\\\\exercises\\\\ex26.py', '__cached__': 'c:\\\\Users\\\\Burner PC\\\\iCloudDrive\\\\Documents\\\\CODE\\\\Learning-Python\\\\lpthw\\\\exercises\\\\__pycache__\\\\ex26.cpython-312.pyc', '__builtins__': {'__name__': 'builtins', '__doc__': \"Built-in functions, types, exceptions, and other objects.\\n\\nThis module provides direct access to all 'built-in'\\nidentifiers of Python; for example, builtins.len is\\nthe full name for the built-in function len().\\n\\nThis module is not normally accessed explicitly by most\\napplications, but can be useful in modules that provide\\nobjects with the same name as a built-in value, but in\\nwhich the built-in of that name is also needed.\", '__package__': '', '__loader__': <class '_frozen_importlib.BuiltinImporter'>, '__spec__': ModuleSpec(name='builtins', loader=<class '_frozen_importlib.BuiltinImporter'>, origin='built-in'), '__build_class__': <built-in function __build_class__>, '__import__': <built-in function __import__>, 'abs': <built-in function abs>, 'all': <built-in function all>, 'any': <built-in function any>, 'ascii': <built-in function ascii>, 'bin': <built-in function bin>, 'breakpoint': <built-in function breakpoint>, 'callable': <built-in function callable>, 'chr': <built-in function chr>, 'compile': <built-in function compile>, 'delattr': <built-in function delattr>, 'dir': <built-in function dir>, 'divmod': <built-in function divmod>, 'eval': <built-in function eval>, 'exec': <built-in function exec>, 'format': <built-in function format>, 'getattr': <built-in function getattr>, 'globals': <built-in function globals>, 'hasattr': <built-in function hasattr>, 'hash': <built-in function hash>, 'hex': <built-in function hex>, 'id': <built-in function id>, 'input': <bound method Kernel.raw_input of <ipykernel.ipkernel.IPythonKernel object at 0x000002AE4295CB00>>, 'isinstance': <built-in function isinstance>, 'issubclass': <built-in function issubclass>, 'iter': <built-in function iter>, 'aiter': <built-in function aiter>, 'len': <built-in function len>, 'locals': <built-in function locals>, 'max': <built-in function max>, 'min': <built-in function min>, 'next': <built-in function next>, 'anext': <built-in function anext>, 'oct': <built-in function oct>, 'ord': <built-in function ord>, 'pow': <built-in function pow>, 'print': <built-in function print>, 'repr': <built-in function repr>, 'round': <built-in function round>, 'setattr': <built-in function setattr>, 'sorted': <built-in function sorted>, 'sum': <built-in function sum>, 'vars': <built-in function vars>, 'None': None, 'Ellipsis': Ellipsis, 'NotImplemented': NotImplemented, 'False': False, 'True': True, 'bool': <class 'bool'>, 'memoryview': <class 'memoryview'>, 'bytearray': <class 'bytearray'>, 'bytes': <class 'bytes'>, 'classmethod': <class 'classmethod'>, 'complex': <class 'complex'>, 'dict': <class 'dict'>, 'enumerate': <class 'enumerate'>, 'filter': <class 'filter'>, 'float': <class 'float'>, 'frozenset': <class 'frozenset'>, 'property': <class 'property'>, 'int': <class 'int'>, 'list': <class 'list'>, 'map': <class 'map'>, 'object': <class 'object'>, 'range': <class 'range'>, 'reversed': <class 'reversed'>, 'set': <class 'set'>, 'slice': <class 'slice'>, 'staticmethod': <class 'staticmethod'>, 'str': <class 'str'>, 'super': <class 'super'>, 'tuple': <class 'tuple'>, 'type': <class 'type'>, 'zip': <class 'zip'>, '__debug__': True, 'BaseException': <class 'BaseException'>, 'BaseExceptionGroup': <class 'BaseExceptionGroup'>, 'Exception': <class 'Exception'>, 'GeneratorExit': <class 'GeneratorExit'>, 'KeyboardInterrupt': <class 'KeyboardInterrupt'>, 'SystemExit': <class 'SystemExit'>, 'ArithmeticError': <class 'ArithmeticError'>, 'AssertionError': <class 'AssertionError'>, 'AttributeError': <class 'AttributeError'>, 'BufferError': <class 'BufferError'>, 'EOFError': <class 'EOFError'>, 'ImportError': <class 'ImportError'>, 'LookupError': <class 'LookupError'>, 'MemoryError': <class 'MemoryError'>, 'NameError': <class 'NameError'>, 'OSError': <class 'OSError'>, 'ReferenceError': <class 'ReferenceError'>, 'RuntimeError': <class 'RuntimeError'>, 'StopAsyncIteration': <class 'StopAsyncIteration'>, 'StopIteration': <class 'StopIteration'>, 'SyntaxError': <class 'SyntaxError'>, 'SystemError': <class 'SystemError'>, 'TypeError': <class 'TypeError'>, 'ValueError': <class 'ValueError'>, 'Warning': <class 'Warning'>, 'FloatingPointError': <class 'FloatingPointError'>, 'OverflowError': <class 'OverflowError'>, 'ZeroDivisionError': <class 'ZeroDivisionError'>, 'BytesWarning': <class 'BytesWarning'>, 'DeprecationWarning': <class 'DeprecationWarning'>, 'EncodingWarning': <class 'EncodingWarning'>, 'FutureWarning': <class 'FutureWarning'>, 'ImportWarning': <class 'ImportWarning'>, 'PendingDeprecationWarning': <class 'PendingDeprecationWarning'>, 'ResourceWarning': <class 'ResourceWarning'>, 'RuntimeWarning': <class 'RuntimeWarning'>, 'SyntaxWarning': <class 'SyntaxWarning'>, 'UnicodeWarning': <class 'UnicodeWarning'>, 'UserWarning': <class 'UserWarning'>, 'BlockingIOError': <class 'BlockingIOError'>, 'ChildProcessError': <class 'ChildProcessError'>, 'ConnectionError': <class 'ConnectionError'>, 'FileExistsError': <class 'FileExistsError'>, 'FileNotFoundError': <class 'FileNotFoundError'>, 'InterruptedError': <class 'InterruptedError'>, 'IsADirectoryError': <class 'IsADirectoryError'>, 'NotADirectoryError': <class 'NotADirectoryError'>, 'PermissionError': <class 'PermissionError'>, 'ProcessLookupError': <class 'ProcessLookupError'>, 'TimeoutError': <class 'TimeoutError'>, 'IndentationError': <class 'IndentationError'>, 'IndexError': <class 'IndexError'>, 'KeyError': <class 'KeyError'>, 'ModuleNotFoundError': <class 'ModuleNotFoundError'>, 'NotImplementedError': <class 'NotImplementedError'>, 'RecursionError': <class 'RecursionError'>, 'UnboundLocalError': <class 'UnboundLocalError'>, 'UnicodeError': <class 'UnicodeError'>, 'BrokenPipeError': <class 'BrokenPipeError'>, 'ConnectionAbortedError': <class 'ConnectionAbortedError'>, 'ConnectionRefusedError': <class 'ConnectionRefusedError'>, 'ConnectionResetError': <class 'ConnectionResetError'>, 'TabError': <class 'TabError'>, 'UnicodeDecodeError': <class 'UnicodeDecodeError'>, 'UnicodeEncodeError': <class 'UnicodeEncodeError'>, 'UnicodeTranslateError': <class 'UnicodeTranslateError'>, 'ExceptionGroup': <class 'ExceptionGroup'>, 'EnvironmentError': <class 'OSError'>, 'IOError': <class 'OSError'>, 'WindowsError': <class 'OSError'>, 'open': <built-in function open>, 'copyright': Copyright (c) 2001-2023 Python Software Foundation.\n",
      "All Rights Reserved.\n",
      "\n",
      "Copyright (c) 2000 BeOpen.com.\n",
      "All Rights Reserved.\n",
      "\n",
      "Copyright (c) 1995-2001 Corporation for National Research Initiatives.\n",
      "All Rights Reserved.\n",
      "\n",
      "Copyright (c) 1991-1995 Stichting Mathematisch Centrum, Amsterdam.\n",
      "All Rights Reserved., 'credits':     Thanks to CWI, CNRI, BeOpen.com, Zope Corporation and a cast of thousands\n",
      "    for supporting Python development.  See www.python.org for more information., 'license': See https://www.python.org/psf/license/, 'help': Type help() for interactive help, or help(object) for help about object., 'execfile': <function execfile at 0x000002AE415C99E0>, 'runfile': <function runfile at 0x000002AE416C2CA0>, '__IPYTHON__': True, 'display': <function display at 0x000002AE3FFFEB60>, 'get_ipython': <bound method InteractiveShell.get_ipython of <ipykernel.zmqshell.ZMQInteractiveShell object at 0x000002AE4295C740>>}, 'name': 'Zed', 'height': 74}\n"
     ]
    }
   ],
   "source": [
    "print(ex26.__dict__)"
   ]
  },
  {
   "cell_type": "code",
   "execution_count": 4,
   "metadata": {},
   "outputs": [
    {
     "name": "stdout",
     "output_type": "stream",
     "text": [
      "height is 74\n",
      "height is also 74\n"
     ]
    }
   ],
   "source": [
    "print(\"height is\", ex26.height)\n",
    "print(\"height is also\", ex26.__dict__['height'])"
   ]
  },
  {
   "cell_type": "code",
   "execution_count": 5,
   "metadata": {},
   "outputs": [
    {
     "name": "stdout",
     "output_type": "stream",
     "text": [
      "I am currently 74 inched tall\n",
      "I am now 1000 inched tall\n",
      "Oops, now I'm 12 inches tall\n"
     ]
    }
   ],
   "source": [
    "print(f\"I am currently {ex26.height} inched tall\")\n",
    "\n",
    "ex26.__dict__['height'] = 1000\n",
    "print(f\"I am now {ex26.height} inched tall\")\n",
    "\n",
    "ex26.height = 12\n",
    "print(f\"Oops, now I'm {ex26.__dict__['height']} inches tall\")"
   ]
  },
  {
   "cell_type": "code",
   "execution_count": 10,
   "metadata": {},
   "outputs": [
    {
     "data": {
      "text/plain": [
       "<module 'ex26' from 'c:\\\\Users\\\\Burner PC\\\\iCloudDrive\\\\Documents\\\\CODE\\\\Learning-Python\\\\lpthw\\\\exercises\\\\ex26.py'>"
      ]
     },
     "execution_count": 10,
     "metadata": {},
     "output_type": "execute_result"
    }
   ],
   "source": [
    "from importlib import reload\n",
    "reload(ex26)"
   ]
  },
  {
   "cell_type": "markdown",
   "metadata": {},
   "source": [
    "# Study Drills"
   ]
  },
  {
   "cell_type": "code",
   "execution_count": 12,
   "metadata": {},
   "outputs": [
    {
     "name": "stdout",
     "output_type": "stream",
     "text": [
      "Pretty-print a Python object to a stream [default is sys.stdout].\n"
     ]
    }
   ],
   "source": [
    "from pprint import pprint\n",
    "print(pprint.__doc__)"
   ]
  },
  {
   "cell_type": "code",
   "execution_count": 13,
   "metadata": {},
   "outputs": [
    {
     "name": "stdout",
     "output_type": "stream",
     "text": [
      "Help on function pprint in module pprint:\n",
      "\n",
      "pprint(object, stream=None, indent=1, width=80, depth=None, *, compact=False, sort_dicts=True, underscore_numbers=False)\n",
      "    Pretty-print a Python object to a stream [default is sys.stdout].\n",
      "\n"
     ]
    }
   ],
   "source": [
    "help(pprint)"
   ]
  },
  {
   "cell_type": "markdown",
   "metadata": {},
   "source": [
    "Looking at dunders"
   ]
  },
  {
   "cell_type": "code",
   "execution_count": 17,
   "metadata": {},
   "outputs": [
    {
     "name": "stdout",
     "output_type": "stream",
     "text": [
      "Annotations {}\n",
      "\n",
      "Builtins {'__name__': 'builtins', '__doc__': \"Built-in functions, types, exceptions, and other objects.\\n\\nThis module provides direct access to all 'built-in'\\nidentifiers of Python; for example, builtins.len is\\nthe full name for the built-in function len().\\n\\nThis module is not normally accessed explicitly by most\\napplications, but can be useful in modules that provide\\nobjects with the same name as a built-in value, but in\\nwhich the built-in of that name is also needed.\", '__package__': '', '__loader__': <class '_frozen_importlib.BuiltinImporter'>, '__spec__': ModuleSpec(name='builtins', loader=<class '_frozen_importlib.BuiltinImporter'>, origin='built-in'), '__build_class__': <built-in function __build_class__>, '__import__': <built-in function __import__>, 'abs': <built-in function abs>, 'all': <built-in function all>, 'any': <built-in function any>, 'ascii': <built-in function ascii>, 'bin': <built-in function bin>, 'breakpoint': <built-in function breakpoint>, 'callable': <built-in function callable>, 'chr': <built-in function chr>, 'compile': <built-in function compile>, 'delattr': <built-in function delattr>, 'dir': <built-in function dir>, 'divmod': <built-in function divmod>, 'eval': <built-in function eval>, 'exec': <built-in function exec>, 'format': <built-in function format>, 'getattr': <built-in function getattr>, 'globals': <built-in function globals>, 'hasattr': <built-in function hasattr>, 'hash': <built-in function hash>, 'hex': <built-in function hex>, 'id': <built-in function id>, 'input': <bound method Kernel.raw_input of <ipykernel.ipkernel.IPythonKernel object at 0x000002AE4295CB00>>, 'isinstance': <built-in function isinstance>, 'issubclass': <built-in function issubclass>, 'iter': <built-in function iter>, 'aiter': <built-in function aiter>, 'len': <built-in function len>, 'locals': <built-in function locals>, 'max': <built-in function max>, 'min': <built-in function min>, 'next': <built-in function next>, 'anext': <built-in function anext>, 'oct': <built-in function oct>, 'ord': <built-in function ord>, 'pow': <built-in function pow>, 'print': <built-in function print>, 'repr': <built-in function repr>, 'round': <built-in function round>, 'setattr': <built-in function setattr>, 'sorted': <built-in function sorted>, 'sum': <built-in function sum>, 'vars': <built-in function vars>, 'None': None, 'Ellipsis': Ellipsis, 'NotImplemented': NotImplemented, 'False': False, 'True': True, 'bool': <class 'bool'>, 'memoryview': <class 'memoryview'>, 'bytearray': <class 'bytearray'>, 'bytes': <class 'bytes'>, 'classmethod': <class 'classmethod'>, 'complex': <class 'complex'>, 'dict': <class 'dict'>, 'enumerate': <class 'enumerate'>, 'filter': <class 'filter'>, 'float': <class 'float'>, 'frozenset': <class 'frozenset'>, 'property': <class 'property'>, 'int': <class 'int'>, 'list': <class 'list'>, 'map': <class 'map'>, 'object': <class 'object'>, 'range': <class 'range'>, 'reversed': <class 'reversed'>, 'set': <class 'set'>, 'slice': <class 'slice'>, 'staticmethod': <class 'staticmethod'>, 'str': <class 'str'>, 'super': <class 'super'>, 'tuple': <class 'tuple'>, 'type': <class 'type'>, 'zip': <class 'zip'>, '__debug__': True, 'BaseException': <class 'BaseException'>, 'BaseExceptionGroup': <class 'BaseExceptionGroup'>, 'Exception': <class 'Exception'>, 'GeneratorExit': <class 'GeneratorExit'>, 'KeyboardInterrupt': <class 'KeyboardInterrupt'>, 'SystemExit': <class 'SystemExit'>, 'ArithmeticError': <class 'ArithmeticError'>, 'AssertionError': <class 'AssertionError'>, 'AttributeError': <class 'AttributeError'>, 'BufferError': <class 'BufferError'>, 'EOFError': <class 'EOFError'>, 'ImportError': <class 'ImportError'>, 'LookupError': <class 'LookupError'>, 'MemoryError': <class 'MemoryError'>, 'NameError': <class 'NameError'>, 'OSError': <class 'OSError'>, 'ReferenceError': <class 'ReferenceError'>, 'RuntimeError': <class 'RuntimeError'>, 'StopAsyncIteration': <class 'StopAsyncIteration'>, 'StopIteration': <class 'StopIteration'>, 'SyntaxError': <class 'SyntaxError'>, 'SystemError': <class 'SystemError'>, 'TypeError': <class 'TypeError'>, 'ValueError': <class 'ValueError'>, 'Warning': <class 'Warning'>, 'FloatingPointError': <class 'FloatingPointError'>, 'OverflowError': <class 'OverflowError'>, 'ZeroDivisionError': <class 'ZeroDivisionError'>, 'BytesWarning': <class 'BytesWarning'>, 'DeprecationWarning': <class 'DeprecationWarning'>, 'EncodingWarning': <class 'EncodingWarning'>, 'FutureWarning': <class 'FutureWarning'>, 'ImportWarning': <class 'ImportWarning'>, 'PendingDeprecationWarning': <class 'PendingDeprecationWarning'>, 'ResourceWarning': <class 'ResourceWarning'>, 'RuntimeWarning': <class 'RuntimeWarning'>, 'SyntaxWarning': <class 'SyntaxWarning'>, 'UnicodeWarning': <class 'UnicodeWarning'>, 'UserWarning': <class 'UserWarning'>, 'BlockingIOError': <class 'BlockingIOError'>, 'ChildProcessError': <class 'ChildProcessError'>, 'ConnectionError': <class 'ConnectionError'>, 'FileExistsError': <class 'FileExistsError'>, 'FileNotFoundError': <class 'FileNotFoundError'>, 'InterruptedError': <class 'InterruptedError'>, 'IsADirectoryError': <class 'IsADirectoryError'>, 'NotADirectoryError': <class 'NotADirectoryError'>, 'PermissionError': <class 'PermissionError'>, 'ProcessLookupError': <class 'ProcessLookupError'>, 'TimeoutError': <class 'TimeoutError'>, 'IndentationError': <class 'IndentationError'>, 'IndexError': <class 'IndexError'>, 'KeyError': <class 'KeyError'>, 'ModuleNotFoundError': <class 'ModuleNotFoundError'>, 'NotImplementedError': <class 'NotImplementedError'>, 'RecursionError': <class 'RecursionError'>, 'UnboundLocalError': <class 'UnboundLocalError'>, 'UnicodeError': <class 'UnicodeError'>, 'BrokenPipeError': <class 'BrokenPipeError'>, 'ConnectionAbortedError': <class 'ConnectionAbortedError'>, 'ConnectionRefusedError': <class 'ConnectionRefusedError'>, 'ConnectionResetError': <class 'ConnectionResetError'>, 'TabError': <class 'TabError'>, 'UnicodeDecodeError': <class 'UnicodeDecodeError'>, 'UnicodeEncodeError': <class 'UnicodeEncodeError'>, 'UnicodeTranslateError': <class 'UnicodeTranslateError'>, 'ExceptionGroup': <class 'ExceptionGroup'>, 'EnvironmentError': <class 'OSError'>, 'IOError': <class 'OSError'>, 'WindowsError': <class 'OSError'>, 'open': <built-in function open>, 'copyright': Copyright (c) 2001-2023 Python Software Foundation.\n",
      "All Rights Reserved.\n",
      "\n",
      "Copyright (c) 2000 BeOpen.com.\n",
      "All Rights Reserved.\n",
      "\n",
      "Copyright (c) 1995-2001 Corporation for National Research Initiatives.\n",
      "All Rights Reserved.\n",
      "\n",
      "Copyright (c) 1991-1995 Stichting Mathematisch Centrum, Amsterdam.\n",
      "All Rights Reserved., 'credits':     Thanks to CWI, CNRI, BeOpen.com, Zope Corporation and a cast of thousands\n",
      "    for supporting Python development.  See www.python.org for more information., 'license': See https://www.python.org/psf/license/, 'help': Type help() for interactive help, or help(object) for help about object., 'execfile': <function execfile at 0x000002AE415C99E0>, 'runfile': <function runfile at 0x000002AE416C2CA0>, '__IPYTHON__': True, 'display': <function display at 0x000002AE3FFFEB60>, 'get_ipython': <bound method InteractiveShell.get_ipython of <ipykernel.zmqshell.ZMQInteractiveShell object at 0x000002AE4295C740>>}\n",
      "\n",
      "Cached c:\\Users\\Burner PC\\iCloudDrive\\Documents\\CODE\\Learning-Python\\lpthw\\exercises\\__pycache__\\ex26.cpython-312.pyc\n",
      "\n",
      "Doc None\n",
      "\n",
      "File c:\\Users\\Burner PC\\iCloudDrive\\Documents\\CODE\\Learning-Python\\lpthw\\exercises\\ex26.py\n",
      "\n",
      "Loader <_frozen_importlib_external.SourceFileLoader object at 0x000002AE42A2EF90>\n",
      "\n",
      "Name ex26\n",
      "\n",
      "Package \n",
      "\n",
      "Spec ModuleSpec(name='ex26', loader=<_frozen_importlib_external.SourceFileLoader object at 0x000002AE42A2EF90>, origin='c:\\\\Users\\\\Burner PC\\\\iCloudDrive\\\\Documents\\\\CODE\\\\Learning-Python\\\\lpthw\\\\exercises\\\\ex26.py')\n"
     ]
    }
   ],
   "source": [
    "print(\"Annotations\", ex26.__annotations__)\n",
    "print(\"\\nBuiltins\", ex26.__builtins__)\n",
    "print(\"\\nCached\", ex26.__cached__)\n",
    "print(\"\\nDoc\", ex26.__doc__)\n",
    "print(\"\\nFile\", ex26.__file__)\n",
    "print(\"\\nLoader\", ex26.__loader__)\n",
    "print(\"\\nName\", ex26.__name__)\n",
    "print(\"\\nPackage\", ex26.__package__)\n",
    "# print(\"\\nPath\", ex26.__path__)\n",
    "print(\"\\nSpec\", ex26.__spec__)\n",
    "# print(\"\\nPy\", ex26.py)"
   ]
  }
 ],
 "metadata": {
  "kernelspec": {
   "display_name": "lpthw",
   "language": "python",
   "name": "python3"
  },
  "language_info": {
   "codemirror_mode": {
    "name": "ipython",
    "version": 3
   },
   "file_extension": ".py",
   "mimetype": "text/x-python",
   "name": "python",
   "nbconvert_exporter": "python",
   "pygments_lexer": "ipython3",
   "version": "3.12.1"
  }
 },
 "nbformat": 4,
 "nbformat_minor": 2
}
