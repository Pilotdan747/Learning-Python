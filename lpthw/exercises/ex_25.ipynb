{
 "cells": [
  {
   "cell_type": "markdown",
   "metadata": {},
   "source": [
    "# Main Code Section"
   ]
  },
  {
   "cell_type": "code",
   "execution_count": 1,
   "metadata": {},
   "outputs": [
    {
     "name": "stdout",
     "output_type": "stream",
     "text": [
      "NUMBER IS 100\n",
      "NUMBER IS 100\n"
     ]
    }
   ],
   "source": [
    "def print_number(x):\n",
    "    print(\"NUMBER IS\", x)\n",
    "\n",
    "rename_print = print_number\n",
    "rename_print(100)\n",
    "print_number(100)"
   ]
  },
  {
   "cell_type": "code",
   "execution_count": 3,
   "metadata": {},
   "outputs": [
    {
     "name": "stdout",
     "output_type": "stream",
     "text": [
      "LITTLE Red CORVETTE\n"
     ]
    }
   ],
   "source": [
    "color = \"Red\"\n",
    "\n",
    "corvette = {\n",
    "    \"color\": color\n",
    "}\n",
    "\n",
    "print(\"LITTLE\", corvette[\"color\"], \"CORVETTE\")"
   ]
  },
  {
   "cell_type": "code",
   "execution_count": 4,
   "metadata": {},
   "outputs": [
    {
     "name": "stdout",
     "output_type": "stream",
     "text": [
      "My Red can go\n",
      "VROOM\n"
     ]
    }
   ],
   "source": [
    "def run():\n",
    "    print(\"VROOM\")\n",
    "\n",
    "corvette = {\n",
    "    \"color\": \"Red\",\n",
    "    \"run\": run\n",
    "}\n",
    "\n",
    "print(\"My\", corvette[\"color\"], \"can go\")\n",
    "corvette[\"run\"]()"
   ]
  },
  {
   "cell_type": "code",
   "execution_count": 5,
   "metadata": {},
   "outputs": [
    {
     "name": "stdout",
     "output_type": "stream",
     "text": [
      "VROOM\n"
     ]
    }
   ],
   "source": [
    "myrun = corvette[\"run\"]\n",
    "\n",
    "myrun()"
   ]
  },
  {
   "cell_type": "markdown",
   "metadata": {},
   "source": [
    "# Study Drills"
   ]
  },
  {
   "cell_type": "code",
   "execution_count": 7,
   "metadata": {},
   "outputs": [
    {
     "name": "stdout",
     "output_type": "stream",
     "text": [
      "Drive\n",
      "None\n",
      "Drive 140 MPH\n",
      "None\n",
      "maroon\n",
      "Grey\n"
     ]
    }
   ],
   "source": [
    "def creator_func(color, speed, type, size):\n",
    "    def drive():\n",
    "        print(\"Drive\")\n",
    "\n",
    "    def drive_fast(fast):\n",
    "        print(\"Drive\", fast, \"MPH\")\n",
    "    \n",
    "    car = {\n",
    "        \"color\": color,\n",
    "        \"speed\": speed,\n",
    "        \"name\": type,\n",
    "        \"size\": size,\n",
    "        \"drive\": drive,\n",
    "        \"fast\": drive_fast\n",
    "    }\n",
    "\n",
    "    return car\n",
    "\n",
    "car_1 = creator_func(\"maroon\", 100, \"CRV\", \"Big\")\n",
    "car_2 = creator_func(\"Grey\", 140, \"Accord\", \"Medium\")\n",
    "\n",
    "print(car_1['drive']())\n",
    "print(car_2['fast'](car_2['speed']))\n",
    "\n",
    "print(car_1['color'])\n",
    "print(car_2['color'])"
   ]
  }
 ],
 "metadata": {
  "kernelspec": {
   "display_name": "lpthw",
   "language": "python",
   "name": "python3"
  },
  "language_info": {
   "codemirror_mode": {
    "name": "ipython",
    "version": 3
   },
   "file_extension": ".py",
   "mimetype": "text/x-python",
   "name": "python",
   "nbconvert_exporter": "python",
   "pygments_lexer": "ipython3",
   "version": "3.11.5"
  }
 },
 "nbformat": 4,
 "nbformat_minor": 2
}
