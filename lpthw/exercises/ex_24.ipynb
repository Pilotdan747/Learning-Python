{
 "cells": [
  {
   "cell_type": "markdown",
   "metadata": {},
   "source": [
    "# Book Code"
   ]
  },
  {
   "cell_type": "code",
   "execution_count": 1,
   "metadata": {},
   "outputs": [],
   "source": [
    "email = {\n",
    "    \"From\": \"j.smith@example.com\",\n",
    "    \"To\": \"zed.shaw@example,com\",\n",
    "    \"Subject\": \"I HAVE AN AMAZING INVESTMENT FOR YOU!!!\"\n",
    "}"
   ]
  },
  {
   "cell_type": "code",
   "execution_count": 3,
   "metadata": {},
   "outputs": [
    {
     "name": "stdout",
     "output_type": "stream",
     "text": [
      "j.smith@example.com\n",
      "zed.shaw@example,com\n",
      "I HAVE AN AMAZING INVESTMENT FOR YOU!!!\n"
     ]
    }
   ],
   "source": [
    "print(email[\"From\"])\n",
    "print(email[\"To\"])\n",
    "print(email[\"Subject\"])"
   ]
  },
  {
   "cell_type": "code",
   "execution_count": 5,
   "metadata": {},
   "outputs": [],
   "source": [
    "messages = [\n",
    "    {\"to\": 'Sun', \"from\": 'Moon', \"message\": \"Hi!\"},\n",
    "    {\"to\": 'Moon', \"from\": 'Sun', \"message\": \"What do you want Sun?\"},\n",
    "    {\"to\": 'Sun', \"from\": 'Moon', \"message\": \"I'm awake!\"},\n",
    "    {\"to\": 'Moon', \"from\": 'Sun', \"message\": \"I can see that Sun.\"}\n",
    "]"
   ]
  },
  {
   "cell_type": "code",
   "execution_count": 6,
   "metadata": {},
   "outputs": [
    {
     "name": "stdout",
     "output_type": "stream",
     "text": [
      "Sun\n",
      "Moon\n",
      "Hi!\n",
      "Moon\n",
      "Sun\n",
      "What do you want Sun?\n"
     ]
    }
   ],
   "source": [
    "print(messages[0]['to'])\n",
    "print(messages[0]['from'])\n",
    "print(messages[0]['message'])\n",
    "print(messages[1]['to'])\n",
    "print(messages[1]['from'])\n",
    "print(messages[1]['message'])"
   ]
  },
  {
   "cell_type": "markdown",
   "metadata": {},
   "source": [
    "# Main Code Section"
   ]
  },
  {
   "cell_type": "code",
   "execution_count": 7,
   "metadata": {},
   "outputs": [],
   "source": [
    "fruit = [\n",
    "    {'kind': 'Apples', 'count': '12', 'rating': 'AAA'},\n",
    "    {'kind': 'Oranges', 'count': '1', 'rating': 'B'},\n",
    "    {'kind': 'Pears', 'count': '2', 'rating': 'A'},\n",
    "    {'kind': 'Grapes', 'count': '14', 'rating': 'UR'}\n",
    "]\n",
    "\n",
    "cars = [\n",
    "    {'type': 'Cadillac', 'color': 'Black', 'size': 'Big', 'miles': 34500},\n",
    "    {'type': 'Corvette', 'color': 'Red', 'size': 'Little', 'miles': 1000000},\n",
    "    {'type': 'Ford', 'color': 'Blue', 'size': 'Medium', 'miles': 1234},\n",
    "    {'type': 'BMW', 'color': 'White', 'size': 'Baby', 'miles': 7890}\n",
    "]\n",
    "\n",
    "languages = [\n",
    "    {'name': 'Python', 'speed': 'Slow', 'opinion': ['Terrible', 'Mush']},\n",
    "    {'name': 'JavaScript', 'speed': 'Moderate', 'opinion': ['Alright', 'Bizarre']},\n",
    "    {'name': 'Perl6', 'speed': 'Moderate', 'opinion': ['Fun', 'Weird']},\n",
    "    {'name': 'C', 'speed': 'Fast', 'opinion': ['Annoying', 'Dangerous']},\n",
    "    {'name': 'Forth', 'speed': 'Fast', 'opinion': ['Fun', 'Difficult']},\n",
    "]"
   ]
  },
  {
   "cell_type": "code",
   "execution_count": 10,
   "metadata": {},
   "outputs": [
    {
     "name": "stdout",
     "output_type": "stream",
     "text": [
      "12\n",
      "AAA\n",
      "2\n",
      "Oranges\n",
      "Grapes\n",
      "14\n",
      "Apples\n",
      "\n",
      "Big\n",
      "Red\n",
      "1234\n",
      "White\n",
      "7890\n",
      "Black\n",
      "34500\n",
      "Blue\n",
      "\n",
      "Slow\n",
      "Alright\n",
      "Dangerous\n",
      "Fast\n",
      "Difficult\n",
      "Fun\n",
      "Annoying\n",
      "Weird\n",
      "Moderate\n"
     ]
    }
   ],
   "source": [
    "print(fruit[0]['count'])\n",
    "print(fruit[0]['rating'])\n",
    "print(fruit[2]['count'])\n",
    "print(fruit[1]['kind'])\n",
    "print(fruit[3]['kind'])\n",
    "print(fruit[3]['count'])\n",
    "print(fruit[0]['kind'])\n",
    "print()\n",
    "print(cars[0]['size'])\n",
    "print(cars[1]['color'])\n",
    "print(cars[2]['miles'])\n",
    "print(cars[3]['color'])\n",
    "print(cars[3]['miles'])\n",
    "print(cars[0]['color'])\n",
    "print(cars[0]['miles'])\n",
    "print(cars[2]['color'])\n",
    "print()\n",
    "print(languages[0]['speed'])\n",
    "print(languages[1]['opinion'][0])\n",
    "print(languages[3]['opinion'][1])\n",
    "print(languages[4]['speed'])\n",
    "print(languages[4]['opinion'][1])\n",
    "print(languages[4]['opinion'][0])\n",
    "print(languages[3]['opinion'][0])\n",
    "print(languages[2]['opinion'][1])\n",
    "print(languages[1]['speed'])"
   ]
  },
  {
   "cell_type": "code",
   "execution_count": 11,
   "metadata": {},
   "outputs": [
    {
     "name": "stdout",
     "output_type": "stream",
     "text": [
      "Little\n",
      "Red\n",
      "Corvette\n",
      "Baby\n",
      "UR\n",
      "Mush\n",
      "2\n",
      "Fast\n"
     ]
    }
   ],
   "source": [
    "print(cars[1]['size'])\n",
    "print(cars[1]['color'])\n",
    "print(cars[1]['type'])\n",
    "print(cars[3]['size'])\n",
    "print(fruit[3]['rating'])\n",
    "print(languages[0]['opinion'][1])\n",
    "print(fruit[2]['count'])\n",
    "print(languages[3]['speed'])"
   ]
  }
 ],
 "metadata": {
  "kernelspec": {
   "display_name": "lpthw",
   "language": "python",
   "name": "python3"
  },
  "language_info": {
   "codemirror_mode": {
    "name": "ipython",
    "version": 3
   },
   "file_extension": ".py",
   "mimetype": "text/x-python",
   "name": "python",
   "nbconvert_exporter": "python",
   "pygments_lexer": "ipython3",
   "version": "3.11.5"
  }
 },
 "nbformat": 4,
 "nbformat_minor": 2
}
