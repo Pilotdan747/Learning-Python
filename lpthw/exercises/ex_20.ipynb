{
 "cells": [
  {
   "cell_type": "markdown",
   "metadata": {},
   "source": [
    "# Main Code Section"
   ]
  },
  {
   "cell_type": "code",
   "execution_count": 1,
   "metadata": {},
   "outputs": [
    {
     "name": "stdout",
     "output_type": "stream",
     "text": [
      "First let's print the whole file:\n",
      "\n",
      "This is line 1\n",
      "This is line 2\n",
      "This is line 3\n",
      "Now let's rewind, kind of like a tape.\n",
      "Let's print three lines:\n",
      "1 This is line 1\n",
      "\n",
      "2 This is line 2\n",
      "\n",
      "3 This is line 3\n"
     ]
    }
   ],
   "source": [
    "from sys import argv\n",
    "\n",
    "input_file = \"ex20_test.txt\"\n",
    "\n",
    "def print_all(f):\n",
    "    print(f.read())\n",
    "\n",
    "def rewind(f):\n",
    "    f.seek(0)\n",
    "\n",
    "def print_a_line(line_count, f):\n",
    "    print(line_count, f.readline())\n",
    "\n",
    "current_file = open(input_file)\n",
    "\n",
    "print(\"First let's print the whole file:\\n\")\n",
    "\n",
    "print_all(current_file)\n",
    "\n",
    "print(\"Now let's rewind, kind of like a tape.\")\n",
    "\n",
    "rewind(current_file)\n",
    "\n",
    "print(\"Let's print three lines:\")\n",
    "\n",
    "current_line = 1\n",
    "print_a_line(current_line, current_file)\n",
    "\n",
    "current_line = current_line + 1\n",
    "print_a_line(current_line, current_file)\n",
    "\n",
    "current_line = current_line + 1\n",
    "print_a_line(current_line, current_file)"
   ]
  }
 ],
 "metadata": {
  "kernelspec": {
   "display_name": "lpthw",
   "language": "python",
   "name": "python3"
  },
  "language_info": {
   "codemirror_mode": {
    "name": "ipython",
    "version": 3
   },
   "file_extension": ".py",
   "mimetype": "text/x-python",
   "name": "python",
   "nbconvert_exporter": "python",
   "pygments_lexer": "ipython3",
   "version": "3.11.5"
  }
 },
 "nbformat": 4,
 "nbformat_minor": 2
}
