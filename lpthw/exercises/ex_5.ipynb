{
 "cells": [
  {
   "cell_type": "markdown",
   "metadata": {},
   "source": [
    "# Main Code Section"
   ]
  },
  {
   "cell_type": "code",
   "execution_count": null,
   "metadata": {},
   "outputs": [],
   "source": [
    "my_name = 'Daniel Owen'\n",
    "my_age = 25\n",
    "my_height = 76\n",
    "my_weight = 230\n",
    "my_eyes = 'Brown'\n",
    "my_teeth = 'White'\n",
    "my_hair = 'Brown'\n",
    "\n",
    "print(f\"Let's talk about {my_name}.\")\n",
    "print(f\"He's {my_height} inches tall.\")\n",
    "print(f\"He's {my_weight} pounds heavy.\")\n",
    "print(\"Actually that's not too heavy.\")\n",
    "print(f\"He's got {my_eyes} eyes and {my_hair} hair.\")\n",
    "print(f\"His teeth are usually {my_teeth} depending on the coffee\")\n",
    "\n",
    "total = my_age + my_height + my_weight\n",
    "print(f\"If I add {my_age}, {my_height}, {my_weight} I get {total}.\")"
   ]
  },
  {
   "cell_type": "markdown",
   "metadata": {},
   "source": [
    "# Study Drill Section"
   ]
  },
  {
   "cell_type": "markdown",
   "metadata": {},
   "source": [
    "Study drill 1"
   ]
  },
  {
   "cell_type": "code",
   "execution_count": 2,
   "metadata": {},
   "outputs": [
    {
     "name": "stdout",
     "output_type": "stream",
     "text": [
      "Let's talk about Daniel Owen.\n",
      "He's 76 inches tall.\n",
      "He's 230 pounds heavy.\n",
      "Actually that's not too heavy.\n",
      "He's got Brown eyes and Brown hair.\n",
      "His teeth are usually White depending on the coffee\n",
      "If I add 25, 76, 230 I get 331.\n"
     ]
    }
   ],
   "source": [
    "name = 'Daniel Owen'\n",
    "age = 25\n",
    "height = 76\n",
    "weight = 230\n",
    "eyes = 'Brown'\n",
    "teeth = 'White'\n",
    "hair = 'Brown'\n",
    "\n",
    "print(f\"Let's talk about {name}.\")\n",
    "print(f\"He's {height} inches tall.\")\n",
    "print(f\"He's {weight} pounds heavy.\")\n",
    "print(\"Actually that's not too heavy.\")\n",
    "print(f\"He's got {eyes} eyes and {hair} hair.\")\n",
    "print(f\"His teeth are usually {teeth} depending on the coffee\")\n",
    "\n",
    "total = age + height + weight\n",
    "print(f\"If I add {age}, {height}, {weight} I get {total}.\")"
   ]
  },
  {
   "cell_type": "markdown",
   "metadata": {},
   "source": [
    "Study drill 2"
   ]
  },
  {
   "cell_type": "code",
   "execution_count": 4,
   "metadata": {},
   "outputs": [
    {
     "name": "stdout",
     "output_type": "stream",
     "text": [
      "Let's talk about Daniel Owen.\n",
      "He's 193.04 cm tall.\n",
      "He's 104.32636917019714 kg heavy.\n",
      "Actually that's not too heavy.\n",
      "He's got Brown eyes and Brown hair.\n",
      "His teeth are usually White depending on the coffee\n",
      "If I add 25, 193.04, 104.32636917019714 I get 322.3663691701971.\n"
     ]
    }
   ],
   "source": [
    "in2cm = 2.54\n",
    "lb2kg = 1 / 2.20462\n",
    "\n",
    "name = 'Daniel Owen'\n",
    "age = 25\n",
    "height = 76 * in2cm\n",
    "weight = 230 * lb2kg\n",
    "eyes = 'Brown'\n",
    "teeth = 'White'\n",
    "hair = 'Brown'\n",
    "\n",
    "print(f\"Let's talk about {name}.\")\n",
    "print(f\"He's {height} cm tall.\")\n",
    "print(f\"He's {weight} kg heavy.\")\n",
    "print(\"Actually that's not too heavy.\")\n",
    "print(f\"He's got {eyes} eyes and {hair} hair.\")\n",
    "print(f\"His teeth are usually {teeth} depending on the coffee\")\n",
    "\n",
    "total = age + height + weight\n",
    "print(f\"If I add {age}, {height}, {weight} I get {total}.\")"
   ]
  },
  {
   "cell_type": "code",
   "execution_count": null,
   "metadata": {},
   "outputs": [],
   "source": []
  }
 ],
 "metadata": {
  "kernelspec": {
   "display_name": "lpthw",
   "language": "python",
   "name": "python3"
  },
  "language_info": {
   "codemirror_mode": {
    "name": "ipython",
    "version": 3
   },
   "file_extension": ".py",
   "mimetype": "text/x-python",
   "name": "python",
   "nbconvert_exporter": "python",
   "pygments_lexer": "ipython3",
   "version": "3.11.5"
  }
 },
 "nbformat": 4,
 "nbformat_minor": 2
}
