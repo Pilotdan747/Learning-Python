{
 "cells": [
  {
   "cell_type": "markdown",
   "metadata": {},
   "source": [
    "# Main Code Section"
   ]
  },
  {
   "cell_type": "markdown",
   "metadata": {},
   "source": [
    "## Rule 1"
   ]
  },
  {
   "cell_type": "code",
   "execution_count": 1,
   "metadata": {},
   "outputs": [
    {
     "name": "stdout",
     "output_type": "stream",
     "text": [
      "  0           0 RESUME                   0\n",
      "\n",
      "  2           2 LOAD_CONST               0 (10)\n",
      "              4 STORE_NAME               0 (x)\n",
      "\n",
      "  3           6 LOAD_CONST               1 (20)\n",
      "              8 STORE_NAME               1 (y)\n",
      "\n",
      "  4          10 LOAD_NAME                0 (x)\n",
      "             12 LOAD_NAME                1 (y)\n",
      "             14 BINARY_OP                0 (+)\n",
      "             18 STORE_NAME               2 (z)\n",
      "             20 RETURN_CONST             2 (None)\n"
     ]
    }
   ],
   "source": [
    "from dis import dis\n",
    "\n",
    "dis('''\n",
    "x = 10\n",
    "y = 20\n",
    "z = x + y    \n",
    "''')"
   ]
  },
  {
   "cell_type": "markdown",
   "metadata": {},
   "source": [
    "## Rule 2"
   ]
  },
  {
   "cell_type": "code",
   "execution_count": 4,
   "metadata": {},
   "outputs": [
    {
     "name": "stdout",
     "output_type": "stream",
     "text": [
      "  0           0 RESUME                   0\n",
      "\n",
      "  1     >>    2 LOAD_CONST               1 (10)\n",
      "              4 STORE_NAME               0 (x)\n",
      "              6 JUMP_BACKWARD            3 (to 2)\n"
     ]
    }
   ],
   "source": [
    "dis(\"while True: x = 10\")"
   ]
  }
 ],
 "metadata": {
  "kernelspec": {
   "display_name": "lpthw",
   "language": "python",
   "name": "python3"
  },
  "language_info": {
   "codemirror_mode": {
    "name": "ipython",
    "version": 3
   },
   "file_extension": ".py",
   "mimetype": "text/x-python",
   "name": "python",
   "nbconvert_exporter": "python",
   "pygments_lexer": "ipython3",
   "version": "3.12.1"
  }
 },
 "nbformat": 4,
 "nbformat_minor": 2
}
